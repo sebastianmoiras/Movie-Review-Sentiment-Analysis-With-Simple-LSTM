{
 "cells": [
  {
   "cell_type": "code",
   "execution_count": 2,
   "id": "e1f6e044-dc47-4814-bc9c-c1ea54394ac6",
   "metadata": {},
   "outputs": [],
   "source": [
    "import tensorflow as tf\n",
    "import random\n",
    "import numpy as np\n",
    "\n",
    "SEED_VALUE = 42\n",
    "tf.random.set_seed(SEED_VALUE)\n",
    "np.random.seed(SEED_VALUE)\n",
    "random.seed(SEED_VALUE)"
   ]
  },
  {
   "cell_type": "code",
   "execution_count": 3,
   "id": "98cc5997-8f00-4b7c-82bc-b9c388ea751f",
   "metadata": {},
   "outputs": [
    {
     "name": "stdout",
     "output_type": "stream",
     "text": [
      "GPU tersedia: [PhysicalDevice(name='/physical_device:GPU:0', device_type='GPU')]\n",
      "Nama device: /device:GPU:0\n"
     ]
    }
   ],
   "source": [
    "gpus = tf.config.list_physical_devices('GPU')\n",
    "print(\"GPU tersedia:\", gpus)\n",
    "print(\"Nama device:\", tf.test.gpu_device_name())"
   ]
  },
  {
   "cell_type": "code",
   "execution_count": 4,
   "id": "a5c661f5-ed12-433e-9b46-6fe4454f161f",
   "metadata": {},
   "outputs": [],
   "source": [
    "import pandas as pd"
   ]
  },
  {
   "cell_type": "code",
   "execution_count": 5,
   "id": "25514730-3332-4891-b766-2fe6c3669cdc",
   "metadata": {},
   "outputs": [
    {
     "data": {
      "text/html": [
       "<div>\n",
       "<style scoped>\n",
       "    .dataframe tbody tr th:only-of-type {\n",
       "        vertical-align: middle;\n",
       "    }\n",
       "\n",
       "    .dataframe tbody tr th {\n",
       "        vertical-align: top;\n",
       "    }\n",
       "\n",
       "    .dataframe thead th {\n",
       "        text-align: right;\n",
       "    }\n",
       "</style>\n",
       "<table border=\"1\" class=\"dataframe\">\n",
       "  <thead>\n",
       "    <tr style=\"text-align: right;\">\n",
       "      <th></th>\n",
       "      <th>review</th>\n",
       "      <th>sentiment</th>\n",
       "    </tr>\n",
       "  </thead>\n",
       "  <tbody>\n",
       "    <tr>\n",
       "      <th>0</th>\n",
       "      <td>One of the other reviewers has mentioned that ...</td>\n",
       "      <td>positive</td>\n",
       "    </tr>\n",
       "    <tr>\n",
       "      <th>1</th>\n",
       "      <td>A wonderful little production. &lt;br /&gt;&lt;br /&gt;The...</td>\n",
       "      <td>positive</td>\n",
       "    </tr>\n",
       "    <tr>\n",
       "      <th>2</th>\n",
       "      <td>I thought this was a wonderful way to spend ti...</td>\n",
       "      <td>positive</td>\n",
       "    </tr>\n",
       "    <tr>\n",
       "      <th>3</th>\n",
       "      <td>Basically there's a family where a little boy ...</td>\n",
       "      <td>negative</td>\n",
       "    </tr>\n",
       "    <tr>\n",
       "      <th>4</th>\n",
       "      <td>Petter Mattei's \"Love in the Time of Money\" is...</td>\n",
       "      <td>positive</td>\n",
       "    </tr>\n",
       "    <tr>\n",
       "      <th>...</th>\n",
       "      <td>...</td>\n",
       "      <td>...</td>\n",
       "    </tr>\n",
       "    <tr>\n",
       "      <th>49995</th>\n",
       "      <td>I thought this movie did a down right good job...</td>\n",
       "      <td>positive</td>\n",
       "    </tr>\n",
       "    <tr>\n",
       "      <th>49996</th>\n",
       "      <td>Bad plot, bad dialogue, bad acting, idiotic di...</td>\n",
       "      <td>negative</td>\n",
       "    </tr>\n",
       "    <tr>\n",
       "      <th>49997</th>\n",
       "      <td>I am a Catholic taught in parochial elementary...</td>\n",
       "      <td>negative</td>\n",
       "    </tr>\n",
       "    <tr>\n",
       "      <th>49998</th>\n",
       "      <td>I'm going to have to disagree with the previou...</td>\n",
       "      <td>negative</td>\n",
       "    </tr>\n",
       "    <tr>\n",
       "      <th>49999</th>\n",
       "      <td>No one expects the Star Trek movies to be high...</td>\n",
       "      <td>negative</td>\n",
       "    </tr>\n",
       "  </tbody>\n",
       "</table>\n",
       "<p>50000 rows × 2 columns</p>\n",
       "</div>"
      ],
      "text/plain": [
       "                                                  review sentiment\n",
       "0      One of the other reviewers has mentioned that ...  positive\n",
       "1      A wonderful little production. <br /><br />The...  positive\n",
       "2      I thought this was a wonderful way to spend ti...  positive\n",
       "3      Basically there's a family where a little boy ...  negative\n",
       "4      Petter Mattei's \"Love in the Time of Money\" is...  positive\n",
       "...                                                  ...       ...\n",
       "49995  I thought this movie did a down right good job...  positive\n",
       "49996  Bad plot, bad dialogue, bad acting, idiotic di...  negative\n",
       "49997  I am a Catholic taught in parochial elementary...  negative\n",
       "49998  I'm going to have to disagree with the previou...  negative\n",
       "49999  No one expects the Star Trek movies to be high...  negative\n",
       "\n",
       "[50000 rows x 2 columns]"
      ]
     },
     "execution_count": 5,
     "metadata": {},
     "output_type": "execute_result"
    }
   ],
   "source": [
    "df = pd.read_csv(\"IMDB Dataset.csv\")\n",
    "df"
   ]
  },
  {
   "cell_type": "code",
   "execution_count": 7,
   "id": "3583c139-81b8-4bd8-a0b2-2577d15ddf01",
   "metadata": {},
   "outputs": [
    {
     "name": "stdout",
     "output_type": "stream",
     "text": [
      "<class 'pandas.core.frame.DataFrame'>\n",
      "RangeIndex: 50000 entries, 0 to 49999\n",
      "Data columns (total 2 columns):\n",
      " #   Column     Non-Null Count  Dtype \n",
      "---  ------     --------------  ----- \n",
      " 0   review     50000 non-null  object\n",
      " 1   sentiment  50000 non-null  object\n",
      "dtypes: object(2)\n",
      "memory usage: 781.4+ KB\n"
     ]
    }
   ],
   "source": [
    "df.info()"
   ]
  },
  {
   "cell_type": "markdown",
   "id": "cd669d96-ad6b-4362-90d3-881b5876cb1f",
   "metadata": {},
   "source": [
    "# Data Cleaning"
   ]
  },
  {
   "cell_type": "markdown",
   "id": "f0296fff-5c93-4a10-bfe6-e2ddef6a1861",
   "metadata": {},
   "source": [
    "## Text cleansing"
   ]
  },
  {
   "cell_type": "code",
   "execution_count": 8,
   "id": "3b57e01c-3bdb-4240-921b-352b859828ed",
   "metadata": {},
   "outputs": [],
   "source": [
    "df[\"review\"] = df[\"review\"].str.casefold()"
   ]
  },
  {
   "cell_type": "code",
   "execution_count": 9,
   "id": "699d9c6a-1ae8-439f-9e6a-72cf51bba537",
   "metadata": {},
   "outputs": [
    {
     "data": {
      "text/html": [
       "<div>\n",
       "<style scoped>\n",
       "    .dataframe tbody tr th:only-of-type {\n",
       "        vertical-align: middle;\n",
       "    }\n",
       "\n",
       "    .dataframe tbody tr th {\n",
       "        vertical-align: top;\n",
       "    }\n",
       "\n",
       "    .dataframe thead th {\n",
       "        text-align: right;\n",
       "    }\n",
       "</style>\n",
       "<table border=\"1\" class=\"dataframe\">\n",
       "  <thead>\n",
       "    <tr style=\"text-align: right;\">\n",
       "      <th></th>\n",
       "      <th>review</th>\n",
       "      <th>sentiment</th>\n",
       "    </tr>\n",
       "  </thead>\n",
       "  <tbody>\n",
       "    <tr>\n",
       "      <th>0</th>\n",
       "      <td>one of the other reviewers has mentioned that ...</td>\n",
       "      <td>positive</td>\n",
       "    </tr>\n",
       "    <tr>\n",
       "      <th>1</th>\n",
       "      <td>a wonderful little production. &lt;br /&gt;&lt;br /&gt;the...</td>\n",
       "      <td>positive</td>\n",
       "    </tr>\n",
       "    <tr>\n",
       "      <th>2</th>\n",
       "      <td>i thought this was a wonderful way to spend ti...</td>\n",
       "      <td>positive</td>\n",
       "    </tr>\n",
       "    <tr>\n",
       "      <th>3</th>\n",
       "      <td>basically there's a family where a little boy ...</td>\n",
       "      <td>negative</td>\n",
       "    </tr>\n",
       "    <tr>\n",
       "      <th>4</th>\n",
       "      <td>petter mattei's \"love in the time of money\" is...</td>\n",
       "      <td>positive</td>\n",
       "    </tr>\n",
       "    <tr>\n",
       "      <th>...</th>\n",
       "      <td>...</td>\n",
       "      <td>...</td>\n",
       "    </tr>\n",
       "    <tr>\n",
       "      <th>49995</th>\n",
       "      <td>i thought this movie did a down right good job...</td>\n",
       "      <td>positive</td>\n",
       "    </tr>\n",
       "    <tr>\n",
       "      <th>49996</th>\n",
       "      <td>bad plot, bad dialogue, bad acting, idiotic di...</td>\n",
       "      <td>negative</td>\n",
       "    </tr>\n",
       "    <tr>\n",
       "      <th>49997</th>\n",
       "      <td>i am a catholic taught in parochial elementary...</td>\n",
       "      <td>negative</td>\n",
       "    </tr>\n",
       "    <tr>\n",
       "      <th>49998</th>\n",
       "      <td>i'm going to have to disagree with the previou...</td>\n",
       "      <td>negative</td>\n",
       "    </tr>\n",
       "    <tr>\n",
       "      <th>49999</th>\n",
       "      <td>no one expects the star trek movies to be high...</td>\n",
       "      <td>negative</td>\n",
       "    </tr>\n",
       "  </tbody>\n",
       "</table>\n",
       "<p>50000 rows × 2 columns</p>\n",
       "</div>"
      ],
      "text/plain": [
       "                                                  review sentiment\n",
       "0      one of the other reviewers has mentioned that ...  positive\n",
       "1      a wonderful little production. <br /><br />the...  positive\n",
       "2      i thought this was a wonderful way to spend ti...  positive\n",
       "3      basically there's a family where a little boy ...  negative\n",
       "4      petter mattei's \"love in the time of money\" is...  positive\n",
       "...                                                  ...       ...\n",
       "49995  i thought this movie did a down right good job...  positive\n",
       "49996  bad plot, bad dialogue, bad acting, idiotic di...  negative\n",
       "49997  i am a catholic taught in parochial elementary...  negative\n",
       "49998  i'm going to have to disagree with the previou...  negative\n",
       "49999  no one expects the star trek movies to be high...  negative\n",
       "\n",
       "[50000 rows x 2 columns]"
      ]
     },
     "execution_count": 9,
     "metadata": {},
     "output_type": "execute_result"
    }
   ],
   "source": [
    "df"
   ]
  },
  {
   "cell_type": "code",
   "execution_count": 10,
   "id": "ddcf4703-89c9-46ce-acef-b2bad75145f4",
   "metadata": {},
   "outputs": [
    {
     "data": {
      "text/plain": [
       "'a wonderful little production. <br /><br />the filming technique is very unassuming- very old-time-bbc fashion and gives a comforting, and sometimes discomforting, sense of realism to the entire piece. <br /><br />the actors are extremely well chosen- michael sheen not only \"has got all the polari\" but he has all the voices down pat too! you can truly see the seamless editing guided by the references to williams\\' diary entries, not only is it well worth the watching but it is a terrificly written and performed piece. a masterful production about one of the great master\\'s of comedy and his life. <br /><br />the realism really comes home with the little things: the fantasy of the guard which, rather than use the traditional \\'dream\\' techniques remains solid then disappears. it plays on our knowledge and our senses, particularly with the scenes concerning orton and halliwell and the sets (particularly of their flat with halliwell\\'s murals decorating every surface) are terribly well done.'"
      ]
     },
     "execution_count": 10,
     "metadata": {},
     "output_type": "execute_result"
    }
   ],
   "source": [
    "df[\"review\"][1]"
   ]
  },
  {
   "cell_type": "code",
   "execution_count": 11,
   "id": "209cb51e-eff7-4df8-8192-45112e180437",
   "metadata": {},
   "outputs": [],
   "source": [
    "import re #regular expressions\n",
    "def clean_review(text):\n",
    "    if isinstance(text, str):\n",
    "        text = re.sub(r'<.*?>', ' ', text)          \n",
    "        text = re.sub(r\"[^a-z0-9\\s'!?]\", \" \", text) \n",
    "        text = re.sub(r'!+', '!', text)             \n",
    "        text = re.sub(r'\\?+', '?', text)         \n",
    "        text = re.sub(r'\\s+', ' ', text).strip()   \n",
    "        return text\n",
    "    return \"\""
   ]
  },
  {
   "cell_type": "code",
   "execution_count": 12,
   "id": "90fbf2bb-08d0-49ed-a3fe-5f136e7a3436",
   "metadata": {},
   "outputs": [],
   "source": [
    "df[\"review\"] = df[\"review\"].apply(clean_review)"
   ]
  },
  {
   "cell_type": "code",
   "execution_count": 13,
   "id": "787c390f-aa29-40cc-9972-dad03d822316",
   "metadata": {},
   "outputs": [],
   "source": [
    "text = df[\"review\"][1]"
   ]
  },
  {
   "cell_type": "code",
   "execution_count": 14,
   "id": "705729b5-be36-443f-a043-e90d1ec86f1b",
   "metadata": {},
   "outputs": [
    {
     "name": "stdout",
     "output_type": "stream",
     "text": [
      "\"a wonderful little production the filming technique is very unassuming very old time bbc fashion and gives a comforting and sometimes discomforting sense of realism to the entire piece the actors are extremely well chosen michael sheen not only has got all the polari but he has all the voices down pat too! you can truly see the seamless editing guided by the references to williams' diary entries not only is it well worth the watching but it is a terrificly written and performed piece a masterful production about one of the great master's of comedy and his life the realism really comes home with the little things the fantasy of the guard which rather than use the traditional 'dream' techniques remains solid then disappears it plays on our knowledge and our senses particularly with the scenes concerning orton and halliwell and the sets particularly of their flat with halliwell's murals decorating every surface are terribly well done\"\n"
     ]
    }
   ],
   "source": [
    "print(repr(text))"
   ]
  },
  {
   "cell_type": "code",
   "execution_count": 15,
   "id": "3866c635-43d0-4fc0-8a9c-e1d011f8efc0",
   "metadata": {},
   "outputs": [
    {
     "name": "stdout",
     "output_type": "stream",
     "text": [
      "a wonderful little production the filming technique is very unassuming very old time bbc fashion and gives a comforting and sometimes discomforting sense of realism to the entire piece the actors are extremely well chosen michael sheen not only has got all the polari but he has all the voices down pat too! you can truly see the seamless editing guided by the references to williams' diary entries not only is it well worth the watching but it is a terrificly written and performed piece a masterful production about one of the great master's of comedy and his life the realism really comes home with the little things the fantasy of the guard which rather than use the traditional 'dream' techniques remains solid then disappears it plays on our knowledge and our senses particularly with the scenes concerning orton and halliwell and the sets particularly of their flat with halliwell's murals decorating every surface are terribly well done\n"
     ]
    }
   ],
   "source": [
    "print(text) "
   ]
  },
  {
   "cell_type": "markdown",
   "id": "d1ae6283-f839-43db-9fa3-0bf3db280222",
   "metadata": {},
   "source": [
    "## Tokenization"
   ]
  },
  {
   "cell_type": "code",
   "execution_count": 16,
   "id": "074794e9-a734-4e7a-97ab-518e5a1641f7",
   "metadata": {},
   "outputs": [
    {
     "name": "stderr",
     "output_type": "stream",
     "text": [
      "[nltk_data] Downloading package punkt to\n",
      "[nltk_data]     C:\\Users\\Jonathan\\AppData\\Roaming\\nltk_data...\n",
      "[nltk_data]   Package punkt is already up-to-date!\n",
      "[nltk_data] Downloading package punkt_tab to\n",
      "[nltk_data]     C:\\Users\\Jonathan\\AppData\\Roaming\\nltk_data...\n",
      "[nltk_data]   Package punkt_tab is already up-to-date!\n"
     ]
    },
    {
     "data": {
      "text/plain": [
       "True"
      ]
     },
     "execution_count": 16,
     "metadata": {},
     "output_type": "execute_result"
    }
   ],
   "source": [
    "import nltk\n",
    "from nltk.tokenize import word_tokenize\n",
    "nltk.download(\"punkt\")\n",
    "nltk.download(\"punkt_tab\")"
   ]
  },
  {
   "cell_type": "code",
   "execution_count": 17,
   "id": "3a7111e5-490c-4a88-915e-880d1b7230a1",
   "metadata": {},
   "outputs": [],
   "source": [
    "df[\"tokens\"] = df[\"review\"].apply(lambda x:word_tokenize(x))"
   ]
  },
  {
   "cell_type": "markdown",
   "id": "1edb9589-27fd-4068-9b86-d214d4c3f109",
   "metadata": {},
   "source": [
    "## Stop Words Removal"
   ]
  },
  {
   "cell_type": "code",
   "execution_count": 18,
   "id": "c45176b0-1cc4-488b-bd89-51c0798a3733",
   "metadata": {},
   "outputs": [
    {
     "name": "stderr",
     "output_type": "stream",
     "text": [
      "[nltk_data] Downloading package stopwords to\n",
      "[nltk_data]     C:\\Users\\Jonathan\\AppData\\Roaming\\nltk_data...\n",
      "[nltk_data]   Package stopwords is already up-to-date!\n"
     ]
    },
    {
     "data": {
      "text/plain": [
       "True"
      ]
     },
     "execution_count": 18,
     "metadata": {},
     "output_type": "execute_result"
    }
   ],
   "source": [
    "from nltk.corpus import stopwords\n",
    "nltk.download(\"stopwords\")"
   ]
  },
  {
   "cell_type": "code",
   "execution_count": 19,
   "id": "f1a3e8f6-4e1d-44a2-8e84-3a8475aa7ae5",
   "metadata": {},
   "outputs": [],
   "source": [
    "stop_words = set(stopwords.words(\"english\"))"
   ]
  },
  {
   "cell_type": "code",
   "execution_count": 20,
   "id": "29972b45-3b4b-4062-947a-2ec86a03051b",
   "metadata": {
    "scrolled": true
   },
   "outputs": [
    {
     "data": {
      "text/plain": [
       "{'a',\n",
       " 'about',\n",
       " 'above',\n",
       " 'after',\n",
       " 'again',\n",
       " 'against',\n",
       " 'ain',\n",
       " 'all',\n",
       " 'am',\n",
       " 'an',\n",
       " 'and',\n",
       " 'any',\n",
       " 'are',\n",
       " 'aren',\n",
       " \"aren't\",\n",
       " 'as',\n",
       " 'at',\n",
       " 'be',\n",
       " 'because',\n",
       " 'been',\n",
       " 'before',\n",
       " 'being',\n",
       " 'below',\n",
       " 'between',\n",
       " 'both',\n",
       " 'but',\n",
       " 'by',\n",
       " 'can',\n",
       " 'couldn',\n",
       " \"couldn't\",\n",
       " 'd',\n",
       " 'did',\n",
       " 'didn',\n",
       " \"didn't\",\n",
       " 'do',\n",
       " 'does',\n",
       " 'doesn',\n",
       " \"doesn't\",\n",
       " 'doing',\n",
       " 'don',\n",
       " \"don't\",\n",
       " 'down',\n",
       " 'during',\n",
       " 'each',\n",
       " 'few',\n",
       " 'for',\n",
       " 'from',\n",
       " 'further',\n",
       " 'had',\n",
       " 'hadn',\n",
       " \"hadn't\",\n",
       " 'has',\n",
       " 'hasn',\n",
       " \"hasn't\",\n",
       " 'have',\n",
       " 'haven',\n",
       " \"haven't\",\n",
       " 'having',\n",
       " 'he',\n",
       " \"he'd\",\n",
       " \"he'll\",\n",
       " \"he's\",\n",
       " 'her',\n",
       " 'here',\n",
       " 'hers',\n",
       " 'herself',\n",
       " 'him',\n",
       " 'himself',\n",
       " 'his',\n",
       " 'how',\n",
       " 'i',\n",
       " \"i'd\",\n",
       " \"i'll\",\n",
       " \"i'm\",\n",
       " \"i've\",\n",
       " 'if',\n",
       " 'in',\n",
       " 'into',\n",
       " 'is',\n",
       " 'isn',\n",
       " \"isn't\",\n",
       " 'it',\n",
       " \"it'd\",\n",
       " \"it'll\",\n",
       " \"it's\",\n",
       " 'its',\n",
       " 'itself',\n",
       " 'just',\n",
       " 'll',\n",
       " 'm',\n",
       " 'ma',\n",
       " 'me',\n",
       " 'mightn',\n",
       " \"mightn't\",\n",
       " 'more',\n",
       " 'most',\n",
       " 'mustn',\n",
       " \"mustn't\",\n",
       " 'my',\n",
       " 'myself',\n",
       " 'needn',\n",
       " \"needn't\",\n",
       " 'no',\n",
       " 'nor',\n",
       " 'not',\n",
       " 'now',\n",
       " 'o',\n",
       " 'of',\n",
       " 'off',\n",
       " 'on',\n",
       " 'once',\n",
       " 'only',\n",
       " 'or',\n",
       " 'other',\n",
       " 'our',\n",
       " 'ours',\n",
       " 'ourselves',\n",
       " 'out',\n",
       " 'over',\n",
       " 'own',\n",
       " 're',\n",
       " 's',\n",
       " 'same',\n",
       " 'shan',\n",
       " \"shan't\",\n",
       " 'she',\n",
       " \"she'd\",\n",
       " \"she'll\",\n",
       " \"she's\",\n",
       " 'should',\n",
       " \"should've\",\n",
       " 'shouldn',\n",
       " \"shouldn't\",\n",
       " 'so',\n",
       " 'some',\n",
       " 'such',\n",
       " 't',\n",
       " 'than',\n",
       " 'that',\n",
       " \"that'll\",\n",
       " 'the',\n",
       " 'their',\n",
       " 'theirs',\n",
       " 'them',\n",
       " 'themselves',\n",
       " 'then',\n",
       " 'there',\n",
       " 'these',\n",
       " 'they',\n",
       " \"they'd\",\n",
       " \"they'll\",\n",
       " \"they're\",\n",
       " \"they've\",\n",
       " 'this',\n",
       " 'those',\n",
       " 'through',\n",
       " 'to',\n",
       " 'too',\n",
       " 'under',\n",
       " 'until',\n",
       " 'up',\n",
       " 've',\n",
       " 'very',\n",
       " 'was',\n",
       " 'wasn',\n",
       " \"wasn't\",\n",
       " 'we',\n",
       " \"we'd\",\n",
       " \"we'll\",\n",
       " \"we're\",\n",
       " \"we've\",\n",
       " 'were',\n",
       " 'weren',\n",
       " \"weren't\",\n",
       " 'what',\n",
       " 'when',\n",
       " 'where',\n",
       " 'which',\n",
       " 'while',\n",
       " 'who',\n",
       " 'whom',\n",
       " 'why',\n",
       " 'will',\n",
       " 'with',\n",
       " 'won',\n",
       " \"won't\",\n",
       " 'wouldn',\n",
       " \"wouldn't\",\n",
       " 'y',\n",
       " 'you',\n",
       " \"you'd\",\n",
       " \"you'll\",\n",
       " \"you're\",\n",
       " \"you've\",\n",
       " 'your',\n",
       " 'yours',\n",
       " 'yourself',\n",
       " 'yourselves'}"
      ]
     },
     "execution_count": 20,
     "metadata": {},
     "output_type": "execute_result"
    }
   ],
   "source": [
    "stop_words"
   ]
  },
  {
   "cell_type": "code",
   "execution_count": 21,
   "id": "4c448dab-acf5-4928-8684-b99f22629435",
   "metadata": {},
   "outputs": [],
   "source": [
    "def remove_stopwords(tokens, stop_words):\n",
    "    hasil = []\n",
    "    for w in tokens:\n",
    "        if w not in stop_words:\n",
    "            hasil.append(w)\n",
    "        else:\n",
    "            continue\n",
    "    return hasil\n",
    "\n",
    "df[\"tokens\"] = df[\"tokens\"].apply(remove_stopwords, stop_words=stop_words)"
   ]
  },
  {
   "cell_type": "code",
   "execution_count": 22,
   "id": "abbb00a3-707d-4a63-8bf1-89e049522244",
   "metadata": {},
   "outputs": [
    {
     "data": {
      "text/html": [
       "<div>\n",
       "<style scoped>\n",
       "    .dataframe tbody tr th:only-of-type {\n",
       "        vertical-align: middle;\n",
       "    }\n",
       "\n",
       "    .dataframe tbody tr th {\n",
       "        vertical-align: top;\n",
       "    }\n",
       "\n",
       "    .dataframe thead th {\n",
       "        text-align: right;\n",
       "    }\n",
       "</style>\n",
       "<table border=\"1\" class=\"dataframe\">\n",
       "  <thead>\n",
       "    <tr style=\"text-align: right;\">\n",
       "      <th></th>\n",
       "      <th>review</th>\n",
       "      <th>sentiment</th>\n",
       "      <th>tokens</th>\n",
       "    </tr>\n",
       "  </thead>\n",
       "  <tbody>\n",
       "    <tr>\n",
       "      <th>0</th>\n",
       "      <td>one of the other reviewers has mentioned that ...</td>\n",
       "      <td>positive</td>\n",
       "      <td>[one, reviewers, mentioned, watching, 1, oz, e...</td>\n",
       "    </tr>\n",
       "    <tr>\n",
       "      <th>1</th>\n",
       "      <td>a wonderful little production the filming tech...</td>\n",
       "      <td>positive</td>\n",
       "      <td>[wonderful, little, production, filming, techn...</td>\n",
       "    </tr>\n",
       "    <tr>\n",
       "      <th>2</th>\n",
       "      <td>i thought this was a wonderful way to spend ti...</td>\n",
       "      <td>positive</td>\n",
       "      <td>[thought, wonderful, way, spend, time, hot, su...</td>\n",
       "    </tr>\n",
       "    <tr>\n",
       "      <th>3</th>\n",
       "      <td>basically there's a family where a little boy ...</td>\n",
       "      <td>negative</td>\n",
       "      <td>[basically, 's, family, little, boy, jake, thi...</td>\n",
       "    </tr>\n",
       "    <tr>\n",
       "      <th>4</th>\n",
       "      <td>petter mattei's love in the time of money is a...</td>\n",
       "      <td>positive</td>\n",
       "      <td>[petter, mattei, 's, love, time, money, visual...</td>\n",
       "    </tr>\n",
       "    <tr>\n",
       "      <th>...</th>\n",
       "      <td>...</td>\n",
       "      <td>...</td>\n",
       "      <td>...</td>\n",
       "    </tr>\n",
       "    <tr>\n",
       "      <th>49995</th>\n",
       "      <td>i thought this movie did a down right good job...</td>\n",
       "      <td>positive</td>\n",
       "      <td>[thought, movie, right, good, job, n't, creati...</td>\n",
       "    </tr>\n",
       "    <tr>\n",
       "      <th>49996</th>\n",
       "      <td>bad plot bad dialogue bad acting idiotic direc...</td>\n",
       "      <td>negative</td>\n",
       "      <td>[bad, plot, bad, dialogue, bad, acting, idioti...</td>\n",
       "    </tr>\n",
       "    <tr>\n",
       "      <th>49997</th>\n",
       "      <td>i am a catholic taught in parochial elementary...</td>\n",
       "      <td>negative</td>\n",
       "      <td>[catholic, taught, parochial, elementary, scho...</td>\n",
       "    </tr>\n",
       "    <tr>\n",
       "      <th>49998</th>\n",
       "      <td>i'm going to have to disagree with the previou...</td>\n",
       "      <td>negative</td>\n",
       "      <td>['m, going, disagree, previous, comment, side,...</td>\n",
       "    </tr>\n",
       "    <tr>\n",
       "      <th>49999</th>\n",
       "      <td>no one expects the star trek movies to be high...</td>\n",
       "      <td>negative</td>\n",
       "      <td>[one, expects, star, trek, movies, high, art, ...</td>\n",
       "    </tr>\n",
       "  </tbody>\n",
       "</table>\n",
       "<p>50000 rows × 3 columns</p>\n",
       "</div>"
      ],
      "text/plain": [
       "                                                  review sentiment  \\\n",
       "0      one of the other reviewers has mentioned that ...  positive   \n",
       "1      a wonderful little production the filming tech...  positive   \n",
       "2      i thought this was a wonderful way to spend ti...  positive   \n",
       "3      basically there's a family where a little boy ...  negative   \n",
       "4      petter mattei's love in the time of money is a...  positive   \n",
       "...                                                  ...       ...   \n",
       "49995  i thought this movie did a down right good job...  positive   \n",
       "49996  bad plot bad dialogue bad acting idiotic direc...  negative   \n",
       "49997  i am a catholic taught in parochial elementary...  negative   \n",
       "49998  i'm going to have to disagree with the previou...  negative   \n",
       "49999  no one expects the star trek movies to be high...  negative   \n",
       "\n",
       "                                                  tokens  \n",
       "0      [one, reviewers, mentioned, watching, 1, oz, e...  \n",
       "1      [wonderful, little, production, filming, techn...  \n",
       "2      [thought, wonderful, way, spend, time, hot, su...  \n",
       "3      [basically, 's, family, little, boy, jake, thi...  \n",
       "4      [petter, mattei, 's, love, time, money, visual...  \n",
       "...                                                  ...  \n",
       "49995  [thought, movie, right, good, job, n't, creati...  \n",
       "49996  [bad, plot, bad, dialogue, bad, acting, idioti...  \n",
       "49997  [catholic, taught, parochial, elementary, scho...  \n",
       "49998  ['m, going, disagree, previous, comment, side,...  \n",
       "49999  [one, expects, star, trek, movies, high, art, ...  \n",
       "\n",
       "[50000 rows x 3 columns]"
      ]
     },
     "execution_count": 22,
     "metadata": {},
     "output_type": "execute_result"
    }
   ],
   "source": [
    "df"
   ]
  },
  {
   "cell_type": "markdown",
   "id": "94ac6390-5e92-4087-b547-9d029b57fea6",
   "metadata": {},
   "source": [
    "## Lemmatization"
   ]
  },
  {
   "cell_type": "code",
   "execution_count": 23,
   "id": "9deddf3d-7f98-45ab-9f06-11f3a068acd0",
   "metadata": {},
   "outputs": [],
   "source": [
    "from nltk.stem import WordNetLemmatizer\n",
    "from nltk.corpus import wordnet"
   ]
  },
  {
   "cell_type": "code",
   "execution_count": 24,
   "id": "899cde86-19ba-4673-845a-0b675200fad1",
   "metadata": {},
   "outputs": [
    {
     "name": "stderr",
     "output_type": "stream",
     "text": [
      "[nltk_data] Downloading package wordnet to\n",
      "[nltk_data]     C:\\Users\\Jonathan\\AppData\\Roaming\\nltk_data...\n",
      "[nltk_data]   Package wordnet is already up-to-date!\n",
      "[nltk_data] Downloading package omw-1.4 to\n",
      "[nltk_data]     C:\\Users\\Jonathan\\AppData\\Roaming\\nltk_data...\n",
      "[nltk_data]   Package omw-1.4 is already up-to-date!\n",
      "[nltk_data] Downloading package averaged_perceptron_tagger_eng to\n",
      "[nltk_data]     C:\\Users\\Jonathan\\AppData\\Roaming\\nltk_data...\n",
      "[nltk_data]   Package averaged_perceptron_tagger_eng is already up-to-\n",
      "[nltk_data]       date!\n"
     ]
    },
    {
     "data": {
      "text/plain": [
       "True"
      ]
     },
     "execution_count": 24,
     "metadata": {},
     "output_type": "execute_result"
    }
   ],
   "source": [
    "nltk.download(\"wordnet\")\n",
    "nltk.download(\"omw-1.4\")\n",
    "nltk.download(\"averaged_perceptron_tagger_eng\")"
   ]
  },
  {
   "cell_type": "code",
   "execution_count": 25,
   "id": "d79cdb89-858a-4299-95d3-b0eff99d2f4e",
   "metadata": {},
   "outputs": [],
   "source": [
    "lemmatizer = WordNetLemmatizer()"
   ]
  },
  {
   "cell_type": "code",
   "execution_count": 26,
   "id": "c490ef65-9c09-4331-93b1-55946cefd720",
   "metadata": {},
   "outputs": [],
   "source": [
    "def get_wordnet_pos(word):\n",
    "    tag = nltk.pos_tag([word])[0][1][0].upper()\n",
    "    tag_dict = {\n",
    "        \"J\": wordnet.ADJ,\n",
    "        \"V\": wordnet.VERB,\n",
    "        \"N\": wordnet.NOUN,\n",
    "        \"R\": wordnet.ADV\n",
    "    }\n",
    "    return tag_dict.get(tag, wordnet.NOUN)"
   ]
  },
  {
   "cell_type": "code",
   "execution_count": 27,
   "id": "c894f7a1-b769-4723-b899-95feab273d75",
   "metadata": {},
   "outputs": [],
   "source": [
    "def lemmatize_words(words, lemmatizer):\n",
    "    hasil = []\n",
    "    for w in words:\n",
    "        pos = get_wordnet_pos(w) \n",
    "        lemma = lemmatizer.lemmatize(w, pos)\n",
    "        hasil.append(lemma)\n",
    "    return hasil\n",
    "\n",
    "df[\"lemmas\"] = df[\"tokens\"].apply(lemmatize_words, lemmatizer=lemmatizer)"
   ]
  },
  {
   "cell_type": "code",
   "execution_count": 28,
   "id": "bf67c31b-ab4d-41e4-b2be-05b958281618",
   "metadata": {},
   "outputs": [
    {
     "data": {
      "text/html": [
       "<div>\n",
       "<style scoped>\n",
       "    .dataframe tbody tr th:only-of-type {\n",
       "        vertical-align: middle;\n",
       "    }\n",
       "\n",
       "    .dataframe tbody tr th {\n",
       "        vertical-align: top;\n",
       "    }\n",
       "\n",
       "    .dataframe thead th {\n",
       "        text-align: right;\n",
       "    }\n",
       "</style>\n",
       "<table border=\"1\" class=\"dataframe\">\n",
       "  <thead>\n",
       "    <tr style=\"text-align: right;\">\n",
       "      <th></th>\n",
       "      <th>review</th>\n",
       "      <th>sentiment</th>\n",
       "      <th>tokens</th>\n",
       "      <th>lemmas</th>\n",
       "    </tr>\n",
       "  </thead>\n",
       "  <tbody>\n",
       "    <tr>\n",
       "      <th>0</th>\n",
       "      <td>one of the other reviewers has mentioned that ...</td>\n",
       "      <td>positive</td>\n",
       "      <td>[one, reviewers, mentioned, watching, 1, oz, e...</td>\n",
       "      <td>[one, reviewer, mention, watch, 1, oz, episode...</td>\n",
       "    </tr>\n",
       "    <tr>\n",
       "      <th>1</th>\n",
       "      <td>a wonderful little production the filming tech...</td>\n",
       "      <td>positive</td>\n",
       "      <td>[wonderful, little, production, filming, techn...</td>\n",
       "      <td>[wonderful, little, production, film, techniqu...</td>\n",
       "    </tr>\n",
       "    <tr>\n",
       "      <th>2</th>\n",
       "      <td>i thought this was a wonderful way to spend ti...</td>\n",
       "      <td>positive</td>\n",
       "      <td>[thought, wonderful, way, spend, time, hot, su...</td>\n",
       "      <td>[thought, wonderful, way, spend, time, hot, su...</td>\n",
       "    </tr>\n",
       "    <tr>\n",
       "      <th>3</th>\n",
       "      <td>basically there's a family where a little boy ...</td>\n",
       "      <td>negative</td>\n",
       "      <td>[basically, 's, family, little, boy, jake, thi...</td>\n",
       "      <td>[basically, 's, family, little, boy, jake, thi...</td>\n",
       "    </tr>\n",
       "    <tr>\n",
       "      <th>4</th>\n",
       "      <td>petter mattei's love in the time of money is a...</td>\n",
       "      <td>positive</td>\n",
       "      <td>[petter, mattei, 's, love, time, money, visual...</td>\n",
       "      <td>[petter, mattei, 's, love, time, money, visual...</td>\n",
       "    </tr>\n",
       "    <tr>\n",
       "      <th>...</th>\n",
       "      <td>...</td>\n",
       "      <td>...</td>\n",
       "      <td>...</td>\n",
       "      <td>...</td>\n",
       "    </tr>\n",
       "    <tr>\n",
       "      <th>49995</th>\n",
       "      <td>i thought this movie did a down right good job...</td>\n",
       "      <td>positive</td>\n",
       "      <td>[thought, movie, right, good, job, n't, creati...</td>\n",
       "      <td>[thought, movie, right, good, job, n't, creati...</td>\n",
       "    </tr>\n",
       "    <tr>\n",
       "      <th>49996</th>\n",
       "      <td>bad plot bad dialogue bad acting idiotic direc...</td>\n",
       "      <td>negative</td>\n",
       "      <td>[bad, plot, bad, dialogue, bad, acting, idioti...</td>\n",
       "      <td>[bad, plot, bad, dialogue, bad, act, idiotic, ...</td>\n",
       "    </tr>\n",
       "    <tr>\n",
       "      <th>49997</th>\n",
       "      <td>i am a catholic taught in parochial elementary...</td>\n",
       "      <td>negative</td>\n",
       "      <td>[catholic, taught, parochial, elementary, scho...</td>\n",
       "      <td>[catholic, taught, parochial, elementary, scho...</td>\n",
       "    </tr>\n",
       "    <tr>\n",
       "      <th>49998</th>\n",
       "      <td>i'm going to have to disagree with the previou...</td>\n",
       "      <td>negative</td>\n",
       "      <td>['m, going, disagree, previous, comment, side,...</td>\n",
       "      <td>['m, go, disagree, previous, comment, side, ma...</td>\n",
       "    </tr>\n",
       "    <tr>\n",
       "      <th>49999</th>\n",
       "      <td>no one expects the star trek movies to be high...</td>\n",
       "      <td>negative</td>\n",
       "      <td>[one, expects, star, trek, movies, high, art, ...</td>\n",
       "      <td>[one, expect, star, trek, movie, high, art, fa...</td>\n",
       "    </tr>\n",
       "  </tbody>\n",
       "</table>\n",
       "<p>50000 rows × 4 columns</p>\n",
       "</div>"
      ],
      "text/plain": [
       "                                                  review sentiment  \\\n",
       "0      one of the other reviewers has mentioned that ...  positive   \n",
       "1      a wonderful little production the filming tech...  positive   \n",
       "2      i thought this was a wonderful way to spend ti...  positive   \n",
       "3      basically there's a family where a little boy ...  negative   \n",
       "4      petter mattei's love in the time of money is a...  positive   \n",
       "...                                                  ...       ...   \n",
       "49995  i thought this movie did a down right good job...  positive   \n",
       "49996  bad plot bad dialogue bad acting idiotic direc...  negative   \n",
       "49997  i am a catholic taught in parochial elementary...  negative   \n",
       "49998  i'm going to have to disagree with the previou...  negative   \n",
       "49999  no one expects the star trek movies to be high...  negative   \n",
       "\n",
       "                                                  tokens  \\\n",
       "0      [one, reviewers, mentioned, watching, 1, oz, e...   \n",
       "1      [wonderful, little, production, filming, techn...   \n",
       "2      [thought, wonderful, way, spend, time, hot, su...   \n",
       "3      [basically, 's, family, little, boy, jake, thi...   \n",
       "4      [petter, mattei, 's, love, time, money, visual...   \n",
       "...                                                  ...   \n",
       "49995  [thought, movie, right, good, job, n't, creati...   \n",
       "49996  [bad, plot, bad, dialogue, bad, acting, idioti...   \n",
       "49997  [catholic, taught, parochial, elementary, scho...   \n",
       "49998  ['m, going, disagree, previous, comment, side,...   \n",
       "49999  [one, expects, star, trek, movies, high, art, ...   \n",
       "\n",
       "                                                  lemmas  \n",
       "0      [one, reviewer, mention, watch, 1, oz, episode...  \n",
       "1      [wonderful, little, production, film, techniqu...  \n",
       "2      [thought, wonderful, way, spend, time, hot, su...  \n",
       "3      [basically, 's, family, little, boy, jake, thi...  \n",
       "4      [petter, mattei, 's, love, time, money, visual...  \n",
       "...                                                  ...  \n",
       "49995  [thought, movie, right, good, job, n't, creati...  \n",
       "49996  [bad, plot, bad, dialogue, bad, act, idiotic, ...  \n",
       "49997  [catholic, taught, parochial, elementary, scho...  \n",
       "49998  ['m, go, disagree, previous, comment, side, ma...  \n",
       "49999  [one, expect, star, trek, movie, high, art, fa...  \n",
       "\n",
       "[50000 rows x 4 columns]"
      ]
     },
     "execution_count": 28,
     "metadata": {},
     "output_type": "execute_result"
    }
   ],
   "source": [
    "df"
   ]
  },
  {
   "cell_type": "markdown",
   "id": "7e444403-453a-4523-8e4b-8eb62227f6e4",
   "metadata": {},
   "source": [
    "# Join Tokens"
   ]
  },
  {
   "cell_type": "code",
   "execution_count": 29,
   "id": "e82cd920-65a2-4a19-9170-feb4229d0765",
   "metadata": {},
   "outputs": [],
   "source": [
    "def join_tokens(tokens):\n",
    "    return \" \".join(tokens)"
   ]
  },
  {
   "cell_type": "code",
   "execution_count": 30,
   "id": "f349190f-53c8-4767-af9c-d7dcfa94ff8b",
   "metadata": {},
   "outputs": [],
   "source": [
    "df[\"final_text\"] = df[\"lemmas\"].apply(join_tokens)"
   ]
  },
  {
   "cell_type": "code",
   "execution_count": 31,
   "id": "285e8e8b-b392-42c4-804e-ffd354f46a98",
   "metadata": {},
   "outputs": [
    {
     "data": {
      "text/html": [
       "<div>\n",
       "<style scoped>\n",
       "    .dataframe tbody tr th:only-of-type {\n",
       "        vertical-align: middle;\n",
       "    }\n",
       "\n",
       "    .dataframe tbody tr th {\n",
       "        vertical-align: top;\n",
       "    }\n",
       "\n",
       "    .dataframe thead th {\n",
       "        text-align: right;\n",
       "    }\n",
       "</style>\n",
       "<table border=\"1\" class=\"dataframe\">\n",
       "  <thead>\n",
       "    <tr style=\"text-align: right;\">\n",
       "      <th></th>\n",
       "      <th>review</th>\n",
       "      <th>sentiment</th>\n",
       "      <th>tokens</th>\n",
       "      <th>lemmas</th>\n",
       "      <th>final_text</th>\n",
       "    </tr>\n",
       "  </thead>\n",
       "  <tbody>\n",
       "    <tr>\n",
       "      <th>0</th>\n",
       "      <td>one of the other reviewers has mentioned that ...</td>\n",
       "      <td>positive</td>\n",
       "      <td>[one, reviewers, mentioned, watching, 1, oz, e...</td>\n",
       "      <td>[one, reviewer, mention, watch, 1, oz, episode...</td>\n",
       "      <td>one reviewer mention watch 1 oz episode 'll ho...</td>\n",
       "    </tr>\n",
       "    <tr>\n",
       "      <th>1</th>\n",
       "      <td>a wonderful little production the filming tech...</td>\n",
       "      <td>positive</td>\n",
       "      <td>[wonderful, little, production, filming, techn...</td>\n",
       "      <td>[wonderful, little, production, film, techniqu...</td>\n",
       "      <td>wonderful little production film technique una...</td>\n",
       "    </tr>\n",
       "    <tr>\n",
       "      <th>2</th>\n",
       "      <td>i thought this was a wonderful way to spend ti...</td>\n",
       "      <td>positive</td>\n",
       "      <td>[thought, wonderful, way, spend, time, hot, su...</td>\n",
       "      <td>[thought, wonderful, way, spend, time, hot, su...</td>\n",
       "      <td>thought wonderful way spend time hot summer we...</td>\n",
       "    </tr>\n",
       "    <tr>\n",
       "      <th>3</th>\n",
       "      <td>basically there's a family where a little boy ...</td>\n",
       "      <td>negative</td>\n",
       "      <td>[basically, 's, family, little, boy, jake, thi...</td>\n",
       "      <td>[basically, 's, family, little, boy, jake, thi...</td>\n",
       "      <td>basically 's family little boy jake think 's z...</td>\n",
       "    </tr>\n",
       "    <tr>\n",
       "      <th>4</th>\n",
       "      <td>petter mattei's love in the time of money is a...</td>\n",
       "      <td>positive</td>\n",
       "      <td>[petter, mattei, 's, love, time, money, visual...</td>\n",
       "      <td>[petter, mattei, 's, love, time, money, visual...</td>\n",
       "      <td>petter mattei 's love time money visually stun...</td>\n",
       "    </tr>\n",
       "    <tr>\n",
       "      <th>...</th>\n",
       "      <td>...</td>\n",
       "      <td>...</td>\n",
       "      <td>...</td>\n",
       "      <td>...</td>\n",
       "      <td>...</td>\n",
       "    </tr>\n",
       "    <tr>\n",
       "      <th>49995</th>\n",
       "      <td>i thought this movie did a down right good job...</td>\n",
       "      <td>positive</td>\n",
       "      <td>[thought, movie, right, good, job, n't, creati...</td>\n",
       "      <td>[thought, movie, right, good, job, n't, creati...</td>\n",
       "      <td>thought movie right good job n't creative orig...</td>\n",
       "    </tr>\n",
       "    <tr>\n",
       "      <th>49996</th>\n",
       "      <td>bad plot bad dialogue bad acting idiotic direc...</td>\n",
       "      <td>negative</td>\n",
       "      <td>[bad, plot, bad, dialogue, bad, acting, idioti...</td>\n",
       "      <td>[bad, plot, bad, dialogue, bad, act, idiotic, ...</td>\n",
       "      <td>bad plot bad dialogue bad act idiotic direct a...</td>\n",
       "    </tr>\n",
       "    <tr>\n",
       "      <th>49997</th>\n",
       "      <td>i am a catholic taught in parochial elementary...</td>\n",
       "      <td>negative</td>\n",
       "      <td>[catholic, taught, parochial, elementary, scho...</td>\n",
       "      <td>[catholic, taught, parochial, elementary, scho...</td>\n",
       "      <td>catholic taught parochial elementary school nu...</td>\n",
       "    </tr>\n",
       "    <tr>\n",
       "      <th>49998</th>\n",
       "      <td>i'm going to have to disagree with the previou...</td>\n",
       "      <td>negative</td>\n",
       "      <td>['m, going, disagree, previous, comment, side,...</td>\n",
       "      <td>['m, go, disagree, previous, comment, side, ma...</td>\n",
       "      <td>'m go disagree previous comment side maltin on...</td>\n",
       "    </tr>\n",
       "    <tr>\n",
       "      <th>49999</th>\n",
       "      <td>no one expects the star trek movies to be high...</td>\n",
       "      <td>negative</td>\n",
       "      <td>[one, expects, star, trek, movies, high, art, ...</td>\n",
       "      <td>[one, expect, star, trek, movie, high, art, fa...</td>\n",
       "      <td>one expect star trek movie high art fan expect...</td>\n",
       "    </tr>\n",
       "  </tbody>\n",
       "</table>\n",
       "<p>50000 rows × 5 columns</p>\n",
       "</div>"
      ],
      "text/plain": [
       "                                                  review sentiment  \\\n",
       "0      one of the other reviewers has mentioned that ...  positive   \n",
       "1      a wonderful little production the filming tech...  positive   \n",
       "2      i thought this was a wonderful way to spend ti...  positive   \n",
       "3      basically there's a family where a little boy ...  negative   \n",
       "4      petter mattei's love in the time of money is a...  positive   \n",
       "...                                                  ...       ...   \n",
       "49995  i thought this movie did a down right good job...  positive   \n",
       "49996  bad plot bad dialogue bad acting idiotic direc...  negative   \n",
       "49997  i am a catholic taught in parochial elementary...  negative   \n",
       "49998  i'm going to have to disagree with the previou...  negative   \n",
       "49999  no one expects the star trek movies to be high...  negative   \n",
       "\n",
       "                                                  tokens  \\\n",
       "0      [one, reviewers, mentioned, watching, 1, oz, e...   \n",
       "1      [wonderful, little, production, filming, techn...   \n",
       "2      [thought, wonderful, way, spend, time, hot, su...   \n",
       "3      [basically, 's, family, little, boy, jake, thi...   \n",
       "4      [petter, mattei, 's, love, time, money, visual...   \n",
       "...                                                  ...   \n",
       "49995  [thought, movie, right, good, job, n't, creati...   \n",
       "49996  [bad, plot, bad, dialogue, bad, acting, idioti...   \n",
       "49997  [catholic, taught, parochial, elementary, scho...   \n",
       "49998  ['m, going, disagree, previous, comment, side,...   \n",
       "49999  [one, expects, star, trek, movies, high, art, ...   \n",
       "\n",
       "                                                  lemmas  \\\n",
       "0      [one, reviewer, mention, watch, 1, oz, episode...   \n",
       "1      [wonderful, little, production, film, techniqu...   \n",
       "2      [thought, wonderful, way, spend, time, hot, su...   \n",
       "3      [basically, 's, family, little, boy, jake, thi...   \n",
       "4      [petter, mattei, 's, love, time, money, visual...   \n",
       "...                                                  ...   \n",
       "49995  [thought, movie, right, good, job, n't, creati...   \n",
       "49996  [bad, plot, bad, dialogue, bad, act, idiotic, ...   \n",
       "49997  [catholic, taught, parochial, elementary, scho...   \n",
       "49998  ['m, go, disagree, previous, comment, side, ma...   \n",
       "49999  [one, expect, star, trek, movie, high, art, fa...   \n",
       "\n",
       "                                              final_text  \n",
       "0      one reviewer mention watch 1 oz episode 'll ho...  \n",
       "1      wonderful little production film technique una...  \n",
       "2      thought wonderful way spend time hot summer we...  \n",
       "3      basically 's family little boy jake think 's z...  \n",
       "4      petter mattei 's love time money visually stun...  \n",
       "...                                                  ...  \n",
       "49995  thought movie right good job n't creative orig...  \n",
       "49996  bad plot bad dialogue bad act idiotic direct a...  \n",
       "49997  catholic taught parochial elementary school nu...  \n",
       "49998  'm go disagree previous comment side maltin on...  \n",
       "49999  one expect star trek movie high art fan expect...  \n",
       "\n",
       "[50000 rows x 5 columns]"
      ]
     },
     "execution_count": 31,
     "metadata": {},
     "output_type": "execute_result"
    }
   ],
   "source": [
    "df"
   ]
  },
  {
   "cell_type": "markdown",
   "id": "adb22b52-c079-412a-bf54-2cd55b44ce2c",
   "metadata": {},
   "source": [
    "# Encode Target"
   ]
  },
  {
   "cell_type": "code",
   "execution_count": 32,
   "id": "5b730236-74ee-47bb-afc3-d90795b37fdf",
   "metadata": {},
   "outputs": [],
   "source": [
    "from sklearn.preprocessing import LabelEncoder\n",
    "\n",
    "encoder = LabelEncoder()\n",
    "df[\"label_encoded\"] = encoder.fit_transform(df[\"sentiment\"])  # sentiment → 0/1"
   ]
  },
  {
   "cell_type": "code",
   "execution_count": 33,
   "id": "dcb1171a-15c2-42a7-9e55-cf511c8acdce",
   "metadata": {},
   "outputs": [
    {
     "name": "stdout",
     "output_type": "stream",
     "text": [
      "['negative' 'positive']\n"
     ]
    }
   ],
   "source": [
    "print(encoder.classes_)"
   ]
  },
  {
   "cell_type": "markdown",
   "id": "e3f55894-cb79-4f27-96c8-b00fdcf3f4f6",
   "metadata": {},
   "source": [
    "# Data Splitting"
   ]
  },
  {
   "cell_type": "code",
   "execution_count": 34,
   "id": "3f3c1270-39aa-4804-a61d-a24eeb1b8e03",
   "metadata": {},
   "outputs": [],
   "source": [
    "from sklearn.model_selection import train_test_split"
   ]
  },
  {
   "cell_type": "code",
   "execution_count": 35,
   "id": "670d1723-b865-4096-9a66-ffbdc98f64ca",
   "metadata": {},
   "outputs": [],
   "source": [
    "from sklearn.model_selection import train_test_split\n",
    "\n",
    "x_train, x_temp, y_train, y_temp = train_test_split(\n",
    "    df[\"final_text\"], df[\"label_encoded\"],\n",
    "    test_size=0.2,             \n",
    "    random_state=SEED_VALUE,\n",
    "    stratify=df[\"label_encoded\"] \n",
    ")\n",
    "\n",
    "x_val, x_test, y_val, y_test = train_test_split(\n",
    "    x_temp, y_temp,\n",
    "    test_size=0.5,             \n",
    "    random_state=SEED_VALUE,\n",
    "    stratify=y_temp\n",
    ")"
   ]
  },
  {
   "cell_type": "code",
   "execution_count": 36,
   "id": "eae62c6e-81bc-488a-80ae-f3de13709e04",
   "metadata": {},
   "outputs": [
    {
     "name": "stdout",
     "output_type": "stream",
     "text": [
      "Train: (40000,)\n",
      "Val: (5000,)\n",
      "Test: (5000,)\n"
     ]
    }
   ],
   "source": [
    "print(\"Train:\", x_train.shape)\n",
    "print(\"Val:\", x_val.shape)\n",
    "print(\"Test:\", x_test.shape)"
   ]
  },
  {
   "cell_type": "markdown",
   "id": "e16b0809-90e3-45ad-b1dd-2837255a9088",
   "metadata": {},
   "source": [
    "# Tokenizer (Indexing)"
   ]
  },
  {
   "cell_type": "code",
   "execution_count": 37,
   "id": "fc299925-7170-4b3e-864a-fce1409fe5c8",
   "metadata": {},
   "outputs": [],
   "source": [
    "from tensorflow.keras.preprocessing.text import Tokenizer"
   ]
  },
  {
   "cell_type": "code",
   "execution_count": 38,
   "id": "a25b07c8-6931-4f1c-bbf0-0212aef6e9f2",
   "metadata": {},
   "outputs": [],
   "source": [
    "tokenizer = Tokenizer(num_words=5000, oov_token=\"<UNK>\")\n",
    "tokenizer.fit_on_texts(x_train)\n",
    "\n",
    "x_train_seq = tokenizer.texts_to_sequences(x_train)\n",
    "x_val_seq   = tokenizer.texts_to_sequences(x_val)\n",
    "x_test_seq  = tokenizer.texts_to_sequences(x_test)"
   ]
  },
  {
   "cell_type": "markdown",
   "id": "2a1847d8-a9b5-4b83-a56b-9e807787cd59",
   "metadata": {},
   "source": [
    "# Padding"
   ]
  },
  {
   "cell_type": "code",
   "execution_count": 39,
   "id": "9d6698b5-8779-4f07-a3b8-019cc642fadd",
   "metadata": {},
   "outputs": [
    {
     "name": "stdout",
     "output_type": "stream",
     "text": [
      "Maxlen (90th percentile train): 247\n"
     ]
    }
   ],
   "source": [
    "import numpy as np\n",
    "lengths = [len(seq) for seq in x_train_seq]\n",
    "maxlen_90 = int(np.percentile(lengths, 90))\n",
    "print(\"Maxlen (90th percentile train):\", maxlen_90)"
   ]
  },
  {
   "cell_type": "code",
   "execution_count": 40,
   "id": "ebd68e26-c240-40f7-a731-7768a6864cdc",
   "metadata": {},
   "outputs": [],
   "source": [
    "from tensorflow.keras.preprocessing.sequence import pad_sequences"
   ]
  },
  {
   "cell_type": "code",
   "execution_count": 41,
   "id": "cbab0faf-2d47-4fe8-adbb-25cae6ad17ec",
   "metadata": {},
   "outputs": [],
   "source": [
    "x_train_pad = pad_sequences(x_train_seq, maxlen=maxlen_90, padding=\"post\", truncating=\"post\")\n",
    "x_val_pad   = pad_sequences(x_val_seq,   maxlen=maxlen_90, padding=\"post\", truncating=\"post\")\n",
    "x_test_pad  = pad_sequences(x_test_seq,  maxlen=maxlen_90, padding=\"post\", truncating=\"post\")"
   ]
  },
  {
   "cell_type": "code",
   "execution_count": 42,
   "id": "b0700c75-1427-479e-85a7-de0d297b2ca8",
   "metadata": {},
   "outputs": [],
   "source": [
    "from tensorflow.keras.models import Sequential\n",
    "from tensorflow.keras.layers import Embedding, LSTM, Dense, Dropout, Bidirectional, GlobalMaxPooling1D\n",
    "from tensorflow.keras.optimizers import Adam"
   ]
  },
  {
   "cell_type": "code",
   "execution_count": 43,
   "id": "10ee7a61-3d3f-46ee-8760-97734257cced",
   "metadata": {},
   "outputs": [],
   "source": [
    "vocab_size = 5000   \n",
    "embedding_dim = 16 \n",
    "maxlen = maxlen_90    "
   ]
  },
  {
   "cell_type": "markdown",
   "id": "f02e0852-8e16-48ad-a7c8-d63e02bbe253",
   "metadata": {},
   "source": [
    "# Callback"
   ]
  },
  {
   "cell_type": "code",
   "execution_count": 44,
   "id": "6ccb02dc-bb9c-4a68-a7bb-f2656a7cb850",
   "metadata": {},
   "outputs": [],
   "source": [
    "from tensorflow.keras.callbacks import EarlyStopping, ModelCheckpoint\n",
    "\n",
    "early_stop = EarlyStopping(\n",
    "    monitor=\"val_loss\", \n",
    "    patience=2, \n",
    "    restore_best_weights=True\n",
    ")\n",
    "\n",
    "callbacks = [early_stop]"
   ]
  },
  {
   "cell_type": "markdown",
   "id": "34d682dc-ad6d-433e-9238-e2d307a58847",
   "metadata": {},
   "source": [
    "# Model"
   ]
  },
  {
   "cell_type": "code",
   "execution_count": 45,
   "id": "48eb1869-3cbb-438c-be3c-b35f03540c1b",
   "metadata": {},
   "outputs": [
    {
     "name": "stdout",
     "output_type": "stream",
     "text": [
      "Model: \"sequential\"\n",
      "_________________________________________________________________\n",
      " Layer (type)                Output Shape              Param #   \n",
      "=================================================================\n",
      " embedding (Embedding)       (None, 247, 16)           80000     \n",
      "                                                                 \n",
      " global_max_pooling1d (Globa  (None, 16)               0         \n",
      " lMaxPooling1D)                                                  \n",
      "                                                                 \n",
      " dense (Dense)               (None, 1)                 17        \n",
      "                                                                 \n",
      "=================================================================\n",
      "Total params: 80,017\n",
      "Trainable params: 80,017\n",
      "Non-trainable params: 0\n",
      "_________________________________________________________________\n"
     ]
    }
   ],
   "source": [
    "from tensorflow.keras.models import Sequential\n",
    "from tensorflow.keras.layers import Embedding, LSTM, Dense\n",
    "from tensorflow.keras.optimizers import Adam\n",
    "from tensorflow.keras.layers import SpatialDropout1D, Dropout\n",
    "\n",
    "model = Sequential([\n",
    "    Embedding(vocab_size, 16, input_length=maxlen),\n",
    "    GlobalMaxPooling1D(),\n",
    "    Dense(1, activation=\"sigmoid\")\n",
    "])\n",
    "\n",
    "optimizer = Adam(learning_rate=1e-4)  \n",
    "model.compile(loss=\"binary_crossentropy\", optimizer=optimizer, metrics=[\"accuracy\"])\n",
    "\n",
    "model.summary()"
   ]
  },
  {
   "cell_type": "markdown",
   "id": "af2435ad-0dce-4f39-8d71-f9acc5bcef63",
   "metadata": {},
   "source": [
    "# Train"
   ]
  },
  {
   "cell_type": "code",
   "execution_count": 46,
   "id": "e29fdae2-818e-4112-b9e6-5602f86cefe0",
   "metadata": {
    "scrolled": true
   },
   "outputs": [
    {
     "name": "stdout",
     "output_type": "stream",
     "text": [
      "Epoch 1/100\n",
      "1250/1250 [==============================] - 3s 2ms/step - loss: 0.6838 - accuracy: 0.7516 - val_loss: 0.6691 - val_accuracy: 0.7862\n",
      "Epoch 2/100\n",
      "1250/1250 [==============================] - 3s 2ms/step - loss: 0.6478 - accuracy: 0.7918 - val_loss: 0.6248 - val_accuracy: 0.7876\n",
      "Epoch 3/100\n",
      "1250/1250 [==============================] - 3s 2ms/step - loss: 0.5995 - accuracy: 0.7922 - val_loss: 0.5744 - val_accuracy: 0.7918\n",
      "Epoch 4/100\n",
      "1250/1250 [==============================] - 3s 2ms/step - loss: 0.5507 - accuracy: 0.7957 - val_loss: 0.5284 - val_accuracy: 0.7938\n",
      "Epoch 5/100\n",
      "1250/1250 [==============================] - 3s 2ms/step - loss: 0.5090 - accuracy: 0.8015 - val_loss: 0.4913 - val_accuracy: 0.7998\n",
      "Epoch 6/100\n",
      "1250/1250 [==============================] - 3s 2ms/step - loss: 0.4762 - accuracy: 0.8084 - val_loss: 0.4628 - val_accuracy: 0.8078\n",
      "Epoch 7/100\n",
      "1250/1250 [==============================] - 3s 2ms/step - loss: 0.4508 - accuracy: 0.8142 - val_loss: 0.4409 - val_accuracy: 0.8138\n",
      "Epoch 8/100\n",
      "1250/1250 [==============================] - 3s 2ms/step - loss: 0.4308 - accuracy: 0.8203 - val_loss: 0.4237 - val_accuracy: 0.8196\n",
      "Epoch 9/100\n",
      "1250/1250 [==============================] - 3s 2ms/step - loss: 0.4146 - accuracy: 0.8264 - val_loss: 0.4097 - val_accuracy: 0.8248\n",
      "Epoch 10/100\n",
      "1250/1250 [==============================] - 3s 2ms/step - loss: 0.4012 - accuracy: 0.8316 - val_loss: 0.3984 - val_accuracy: 0.8312\n",
      "Epoch 11/100\n",
      "1250/1250 [==============================] - 3s 2ms/step - loss: 0.3903 - accuracy: 0.8354 - val_loss: 0.3892 - val_accuracy: 0.8314\n",
      "Epoch 12/100\n",
      "1250/1250 [==============================] - 3s 2ms/step - loss: 0.3810 - accuracy: 0.8390 - val_loss: 0.3816 - val_accuracy: 0.8336\n",
      "Epoch 13/100\n",
      "1250/1250 [==============================] - 2s 2ms/step - loss: 0.3731 - accuracy: 0.8422 - val_loss: 0.3753 - val_accuracy: 0.8370\n",
      "Epoch 14/100\n",
      "1250/1250 [==============================] - 3s 2ms/step - loss: 0.3662 - accuracy: 0.8456 - val_loss: 0.3698 - val_accuracy: 0.8392\n",
      "Epoch 15/100\n",
      "1250/1250 [==============================] - 3s 2ms/step - loss: 0.3601 - accuracy: 0.8484 - val_loss: 0.3650 - val_accuracy: 0.8424\n",
      "Epoch 16/100\n",
      "1250/1250 [==============================] - 3s 2ms/step - loss: 0.3547 - accuracy: 0.8507 - val_loss: 0.3608 - val_accuracy: 0.8428\n",
      "Epoch 17/100\n",
      "1250/1250 [==============================] - 3s 2ms/step - loss: 0.3496 - accuracy: 0.8531 - val_loss: 0.3569 - val_accuracy: 0.8450\n",
      "Epoch 18/100\n",
      "1250/1250 [==============================] - 3s 2ms/step - loss: 0.3449 - accuracy: 0.8550 - val_loss: 0.3534 - val_accuracy: 0.8466\n",
      "Epoch 19/100\n",
      "1250/1250 [==============================] - 3s 2ms/step - loss: 0.3405 - accuracy: 0.8567 - val_loss: 0.3502 - val_accuracy: 0.8472\n",
      "Epoch 20/100\n",
      "1250/1250 [==============================] - 3s 2ms/step - loss: 0.3364 - accuracy: 0.8587 - val_loss: 0.3473 - val_accuracy: 0.8480\n",
      "Epoch 21/100\n",
      "1250/1250 [==============================] - 2s 2ms/step - loss: 0.3326 - accuracy: 0.8609 - val_loss: 0.3447 - val_accuracy: 0.8500\n",
      "Epoch 22/100\n",
      "1250/1250 [==============================] - 2s 2ms/step - loss: 0.3290 - accuracy: 0.8622 - val_loss: 0.3423 - val_accuracy: 0.8508\n",
      "Epoch 23/100\n",
      "1250/1250 [==============================] - 2s 2ms/step - loss: 0.3256 - accuracy: 0.8645 - val_loss: 0.3402 - val_accuracy: 0.8516\n",
      "Epoch 24/100\n",
      "1250/1250 [==============================] - 3s 2ms/step - loss: 0.3224 - accuracy: 0.8654 - val_loss: 0.3382 - val_accuracy: 0.8520\n",
      "Epoch 25/100\n",
      "1250/1250 [==============================] - 3s 2ms/step - loss: 0.3193 - accuracy: 0.8670 - val_loss: 0.3364 - val_accuracy: 0.8534\n",
      "Epoch 26/100\n",
      "1250/1250 [==============================] - 3s 2ms/step - loss: 0.3164 - accuracy: 0.8685 - val_loss: 0.3347 - val_accuracy: 0.8542\n",
      "Epoch 27/100\n",
      "1250/1250 [==============================] - 3s 2ms/step - loss: 0.3136 - accuracy: 0.8697 - val_loss: 0.3331 - val_accuracy: 0.8564\n",
      "Epoch 28/100\n",
      "1250/1250 [==============================] - 3s 2ms/step - loss: 0.3108 - accuracy: 0.8711 - val_loss: 0.3315 - val_accuracy: 0.8574\n",
      "Epoch 29/100\n",
      "1250/1250 [==============================] - 3s 2ms/step - loss: 0.3082 - accuracy: 0.8718 - val_loss: 0.3301 - val_accuracy: 0.8580\n",
      "Epoch 30/100\n",
      "1250/1250 [==============================] - 3s 2ms/step - loss: 0.3057 - accuracy: 0.8727 - val_loss: 0.3288 - val_accuracy: 0.8574\n",
      "Epoch 31/100\n",
      "1250/1250 [==============================] - 3s 2ms/step - loss: 0.3032 - accuracy: 0.8742 - val_loss: 0.3275 - val_accuracy: 0.8588\n",
      "Epoch 32/100\n",
      "1250/1250 [==============================] - 3s 2ms/step - loss: 0.3009 - accuracy: 0.8754 - val_loss: 0.3264 - val_accuracy: 0.8592\n",
      "Epoch 33/100\n",
      "1250/1250 [==============================] - 3s 2ms/step - loss: 0.2987 - accuracy: 0.8766 - val_loss: 0.3253 - val_accuracy: 0.8606\n",
      "Epoch 34/100\n",
      "1250/1250 [==============================] - 3s 2ms/step - loss: 0.2965 - accuracy: 0.8775 - val_loss: 0.3242 - val_accuracy: 0.8610\n",
      "Epoch 35/100\n",
      "1250/1250 [==============================] - 3s 2ms/step - loss: 0.2944 - accuracy: 0.8786 - val_loss: 0.3232 - val_accuracy: 0.8616\n",
      "Epoch 36/100\n",
      "1250/1250 [==============================] - 3s 2ms/step - loss: 0.2923 - accuracy: 0.8795 - val_loss: 0.3223 - val_accuracy: 0.8620\n",
      "Epoch 37/100\n",
      "1250/1250 [==============================] - 3s 2ms/step - loss: 0.2903 - accuracy: 0.8805 - val_loss: 0.3214 - val_accuracy: 0.8630\n",
      "Epoch 38/100\n",
      "1250/1250 [==============================] - 3s 2ms/step - loss: 0.2884 - accuracy: 0.8813 - val_loss: 0.3205 - val_accuracy: 0.8636\n",
      "Epoch 39/100\n",
      "1250/1250 [==============================] - 3s 2ms/step - loss: 0.2865 - accuracy: 0.8824 - val_loss: 0.3198 - val_accuracy: 0.8626\n",
      "Epoch 40/100\n",
      "1250/1250 [==============================] - 3s 2ms/step - loss: 0.2847 - accuracy: 0.8833 - val_loss: 0.3191 - val_accuracy: 0.8630\n",
      "Epoch 41/100\n",
      "1250/1250 [==============================] - 2s 2ms/step - loss: 0.2829 - accuracy: 0.8841 - val_loss: 0.3184 - val_accuracy: 0.8638\n",
      "Epoch 42/100\n",
      "1250/1250 [==============================] - 2s 2ms/step - loss: 0.2812 - accuracy: 0.8848 - val_loss: 0.3178 - val_accuracy: 0.8646\n",
      "Epoch 43/100\n",
      "1250/1250 [==============================] - 2s 2ms/step - loss: 0.2796 - accuracy: 0.8859 - val_loss: 0.3173 - val_accuracy: 0.8640\n",
      "Epoch 44/100\n",
      "1250/1250 [==============================] - 2s 2ms/step - loss: 0.2780 - accuracy: 0.8866 - val_loss: 0.3168 - val_accuracy: 0.8648\n",
      "Epoch 45/100\n",
      "1250/1250 [==============================] - 3s 2ms/step - loss: 0.2765 - accuracy: 0.8873 - val_loss: 0.3163 - val_accuracy: 0.8654\n",
      "Epoch 46/100\n",
      "1250/1250 [==============================] - 3s 2ms/step - loss: 0.2750 - accuracy: 0.8883 - val_loss: 0.3158 - val_accuracy: 0.8652\n",
      "Epoch 47/100\n",
      "1250/1250 [==============================] - 3s 2ms/step - loss: 0.2735 - accuracy: 0.8894 - val_loss: 0.3154 - val_accuracy: 0.8652\n",
      "Epoch 48/100\n",
      "1250/1250 [==============================] - 3s 2ms/step - loss: 0.2721 - accuracy: 0.8902 - val_loss: 0.3149 - val_accuracy: 0.8652\n",
      "Epoch 49/100\n",
      "1250/1250 [==============================] - 3s 2ms/step - loss: 0.2707 - accuracy: 0.8904 - val_loss: 0.3146 - val_accuracy: 0.8656\n",
      "Epoch 50/100\n",
      "1250/1250 [==============================] - 3s 2ms/step - loss: 0.2693 - accuracy: 0.8915 - val_loss: 0.3142 - val_accuracy: 0.8658\n",
      "Epoch 51/100\n",
      "1250/1250 [==============================] - 3s 2ms/step - loss: 0.2681 - accuracy: 0.8917 - val_loss: 0.3138 - val_accuracy: 0.8666\n",
      "Epoch 52/100\n",
      "1250/1250 [==============================] - 3s 2ms/step - loss: 0.2668 - accuracy: 0.8923 - val_loss: 0.3135 - val_accuracy: 0.8662\n",
      "Epoch 53/100\n",
      "1250/1250 [==============================] - 3s 2ms/step - loss: 0.2655 - accuracy: 0.8929 - val_loss: 0.3132 - val_accuracy: 0.8662\n",
      "Epoch 54/100\n",
      "1250/1250 [==============================] - 3s 2ms/step - loss: 0.2643 - accuracy: 0.8938 - val_loss: 0.3130 - val_accuracy: 0.8660\n",
      "Epoch 55/100\n",
      "1250/1250 [==============================] - 3s 2ms/step - loss: 0.2631 - accuracy: 0.8941 - val_loss: 0.3128 - val_accuracy: 0.8660\n",
      "Epoch 56/100\n",
      "1250/1250 [==============================] - 3s 2ms/step - loss: 0.2619 - accuracy: 0.8946 - val_loss: 0.3126 - val_accuracy: 0.8658\n",
      "Epoch 57/100\n",
      "1250/1250 [==============================] - 3s 2ms/step - loss: 0.2608 - accuracy: 0.8953 - val_loss: 0.3124 - val_accuracy: 0.8664\n",
      "Epoch 58/100\n",
      "1250/1250 [==============================] - 3s 2ms/step - loss: 0.2597 - accuracy: 0.8956 - val_loss: 0.3123 - val_accuracy: 0.8668\n",
      "Epoch 59/100\n",
      "1250/1250 [==============================] - 3s 2ms/step - loss: 0.2586 - accuracy: 0.8963 - val_loss: 0.3121 - val_accuracy: 0.8658\n",
      "Epoch 60/100\n",
      "1250/1250 [==============================] - 3s 2ms/step - loss: 0.2575 - accuracy: 0.8970 - val_loss: 0.3120 - val_accuracy: 0.8652\n",
      "Epoch 61/100\n",
      "1250/1250 [==============================] - 3s 2ms/step - loss: 0.2564 - accuracy: 0.8973 - val_loss: 0.3120 - val_accuracy: 0.8656\n",
      "Epoch 62/100\n",
      "1250/1250 [==============================] - 3s 2ms/step - loss: 0.2554 - accuracy: 0.8978 - val_loss: 0.3119 - val_accuracy: 0.8660\n",
      "Epoch 63/100\n",
      "1250/1250 [==============================] - 2s 2ms/step - loss: 0.2544 - accuracy: 0.8984 - val_loss: 0.3119 - val_accuracy: 0.8662\n",
      "Epoch 64/100\n",
      "1250/1250 [==============================] - 2s 2ms/step - loss: 0.2534 - accuracy: 0.8987 - val_loss: 0.3118 - val_accuracy: 0.8668\n",
      "Epoch 65/100\n",
      "1250/1250 [==============================] - 3s 2ms/step - loss: 0.2524 - accuracy: 0.8994 - val_loss: 0.3119 - val_accuracy: 0.8668\n",
      "Epoch 66/100\n",
      "1250/1250 [==============================] - 3s 2ms/step - loss: 0.2514 - accuracy: 0.8997 - val_loss: 0.3118 - val_accuracy: 0.8668\n",
      "Epoch 67/100\n",
      "1250/1250 [==============================] - 3s 2ms/step - loss: 0.2505 - accuracy: 0.9003 - val_loss: 0.3118 - val_accuracy: 0.8666\n",
      "Epoch 68/100\n",
      "1250/1250 [==============================] - 3s 2ms/step - loss: 0.2496 - accuracy: 0.9007 - val_loss: 0.3118 - val_accuracy: 0.8664\n",
      "Epoch 69/100\n",
      "1250/1250 [==============================] - 3s 2ms/step - loss: 0.2487 - accuracy: 0.9010 - val_loss: 0.3117 - val_accuracy: 0.8668\n",
      "Epoch 70/100\n",
      "1250/1250 [==============================] - 3s 2ms/step - loss: 0.2478 - accuracy: 0.9015 - val_loss: 0.3117 - val_accuracy: 0.8664\n",
      "Epoch 71/100\n",
      "1250/1250 [==============================] - 3s 2ms/step - loss: 0.2469 - accuracy: 0.9020 - val_loss: 0.3117 - val_accuracy: 0.8664\n",
      "Epoch 72/100\n",
      "1250/1250 [==============================] - 3s 2ms/step - loss: 0.2461 - accuracy: 0.9025 - val_loss: 0.3117 - val_accuracy: 0.8664\n",
      "Epoch 73/100\n",
      "1250/1250 [==============================] - 3s 2ms/step - loss: 0.2452 - accuracy: 0.9029 - val_loss: 0.3117 - val_accuracy: 0.8670\n"
     ]
    }
   ],
   "source": [
    "history = model.fit(\n",
    "    x_train_pad, y_train,\n",
    "    epochs=100,\n",
    "    batch_size=32,\n",
    "    validation_data=(x_val_pad, y_val),\n",
    "    callbacks=callbacks\n",
    ")"
   ]
  },
  {
   "cell_type": "markdown",
   "id": "20f4b251-c15b-4b33-9a35-377ee6c7d794",
   "metadata": {},
   "source": [
    "## Visualization"
   ]
  },
  {
   "cell_type": "code",
   "execution_count": 47,
   "id": "50c606bf-17e8-49a6-98ae-85df353bc092",
   "metadata": {},
   "outputs": [
    {
     "data": {
      "image/png": "[encoded data removed]",
      "text/plain": [
       "<Figure size 640x480 with 1 Axes>"
      ]
     },
     "metadata": {},
     "output_type": "display_data"
    }
   ],
   "source": [
    "# Plot Loss\n",
    "import matplotlib.pyplot as plt\n",
    "plt.plot(history.history['loss'], label='Train Loss')\n",
    "plt.plot(history.history['val_loss'], label='Val Loss')\n",
    "plt.legend()\n",
    "plt.xlabel('Epoch')\n",
    "plt.ylabel('Loss')\n",
    "plt.title('Training vs Validation Loss')\n",
    "plt.show()"
   ]
  },
  {
   "cell_type": "code",
   "execution_count": 48,
   "id": "af73c864-ed83-4e5b-900c-b1a263df3894",
   "metadata": {},
   "outputs": [
    {
     "data": {
      "image/png": "[encoded data removed]",
      "text/plain": [
       "<Figure size 640x480 with 1 Axes>"
      ]
     },
     "metadata": {},
     "output_type": "display_data"
    }
   ],
   "source": [
    "# Plot Accuracy\n",
    "plt.plot(history.history['accuracy'], label='Train Accuracy')\n",
    "plt.plot(history.history['val_accuracy'], label='Val Accuracy')\n",
    "plt.legend()\n",
    "plt.xlabel('Epoch')\n",
    "plt.ylabel('Accuracy')\n",
    "plt.title('Training vs Validation Accuracy')\n",
    "plt.show()"
   ]
  },
  {
   "cell_type": "markdown",
   "id": "9973a915-4fcc-400c-9fcd-020923f22cb3",
   "metadata": {},
   "source": [
    "## Evaluation"
   ]
  },
  {
   "cell_type": "code",
   "execution_count": 49,
   "id": "fc034658-6c64-49eb-829d-4cf65d5653db",
   "metadata": {},
   "outputs": [
    {
     "name": "stdout",
     "output_type": "stream",
     "text": [
      "157/157 [==============================] - 0s 587us/step\n",
      "              precision    recall  f1-score   support\n",
      "\n",
      "    negative       0.86      0.87      0.87      2500\n",
      "    positive       0.87      0.86      0.86      2500\n",
      "\n",
      "    accuracy                           0.87      5000\n",
      "   macro avg       0.87      0.87      0.87      5000\n",
      "weighted avg       0.87      0.87      0.87      5000\n",
      "\n"
     ]
    }
   ],
   "source": [
    "from sklearn.metrics import classification_report\n",
    "\n",
    "y_pred_prob = model.predict(x_test_pad)\n",
    "y_pred = (y_pred_prob > 0.5).astype(\"int32\")\n",
    "print(classification_report(y_test, y_pred, target_names=[\"negative\",\"positive\"]))"
   ]
  },
  {
   "cell_type": "code",
   "execution_count": 50,
   "id": "1e4c32df-e4be-4945-bc49-af2566147524",
   "metadata": {},
   "outputs": [
    {
     "data": {
      "text/plain": [
       "<sklearn.metrics._plot.confusion_matrix.ConfusionMatrixDisplay at 0x1fe77bf61a0>"
      ]
     },
     "execution_count": 50,
     "metadata": {},
     "output_type": "execute_result"
    },
    {
     "data": {
      "image/png": "[encoded data removed]",
      "text/plain": [
       "<Figure size 640x480 with 2 Axes>"
      ]
     },
     "metadata": {},
     "output_type": "display_data"
    }
   ],
   "source": [
    "from sklearn.metrics import confusion_matrix, ConfusionMatrixDisplay\n",
    "\n",
    "cm = confusion_matrix(y_test, y_pred)\n",
    "disp = ConfusionMatrixDisplay(confusion_matrix=cm, display_labels=[\"negative\",\"positive\"])\n",
    "disp.plot(cmap=\"Blues\")"
   ]
  },
  {
   "cell_type": "markdown",
   "id": "b45a45fb-d474-428b-bd29-c4770293eaec",
   "metadata": {},
   "source": [
    "# Save model"
   ]
  },
  {
   "cell_type": "code",
   "execution_count": 60,
   "id": "31b6ad1d-25f5-4952-9087-c1b498facc78",
   "metadata": {},
   "outputs": [],
   "source": [
    "model.save(\"sentiment_model.h5\")"
   ]
  },
  {
   "cell_type": "code",
   "execution_count": 61,
   "id": "25e3c0d0-a9d3-47e8-b77d-eeb65f0f72fa",
   "metadata": {},
   "outputs": [],
   "source": [
    "from tensorflow.keras.models import load_model\n",
    "\n",
    "model_loaded = load_model(\"sentiment_model.h5\")"
   ]
  },
  {
   "cell_type": "code",
   "execution_count": 62,
   "id": "ef79cc6c-d92c-424e-b187-8c926dafd1b3",
   "metadata": {},
   "outputs": [],
   "source": [
    "import pickle\n",
    "\n",
    "# Save tokenizer\n",
    "with open(\"tokenizer.pkl\", \"wb\") as f:\n",
    "    pickle.dump(tokenizer, f)\n",
    "# Load tokenizer\n",
    "with open(\"tokenizer.pkl\", \"rb\") as f:\n",
    "    tokenizer_loaded = pickle.load(f)"
   ]
  },
  {
   "cell_type": "markdown",
   "id": "5885924e-ab11-46c1-9aeb-51335c8b2656",
   "metadata": {},
   "source": [
    "# inference"
   ]
  },
  {
   "cell_type": "code",
   "execution_count": 71,
   "id": "8fded664-33fb-4878-91e1-8b7ce95413b7",
   "metadata": {},
   "outputs": [
    {
     "name": "stdout",
     "output_type": "stream",
     "text": [
      "1/1 [==============================] - 0s 11ms/step\n",
      "\n",
      "Review: I didn’t expect much going in, but this film completely surprised me. From the very first scene, \n",
      "    the pacing felt tight and engaging, and the characters had genuine chemistry that made their relationships believable. \n",
      "    The cinematography was surprisingly beautiful, with several shots that stayed in my mind long after it ended. \n",
      "    While the story followed a somewhat familiar arc, the execution gave it a fresh energy. \n",
      "    By the time the credits rolled, I found myself smiling and thinking I’d easily watch it again, which doesn’t happen often for me.\n",
      "→ Probability Positive: 0.9132, Probability Negative: 0.0868\n",
      "→ Predicted Sentiment: positive\n",
      "\n",
      "Review: This was honestly difficult to sit through. The dialogue felt forced from the start, and most of the performances came across as \n",
      "    wooden rather than convincing. The pacing dragged in the middle, making it feel much longer than it actually was, and the attempts at \n",
      "    humor often fell flat. The visuals didn’t help either — bland set design and choppy editing only highlighted how underwhelming the overall \n",
      "    production was. By the end, instead of feeling invested in the story, I was just relieved it was finally over.\n",
      "→ Probability Positive: 0.0130, Probability Negative: 0.9870\n",
      "→ Predicted Sentiment: negative\n",
      "\n",
      "Review: \n",
      "    The acting and cinematography was excellent!\n",
      "    \n",
      "→ Probability Positive: 0.9157, Probability Negative: 0.0843\n",
      "→ Predicted Sentiment: positive\n"
     ]
    }
   ],
   "source": [
    "# Input\n",
    "new_reviews = [\n",
    "    \"\"\"I didn’t expect much going in, but this film completely surprised me. From the very first scene, \n",
    "    the pacing felt tight and engaging, and the characters had genuine chemistry that made their relationships believable. \n",
    "    The cinematography was surprisingly beautiful, with several shots that stayed in my mind long after it ended. \n",
    "    While the story followed a somewhat familiar arc, the execution gave it a fresh energy. \n",
    "    By the time the credits rolled, I found myself smiling and thinking I’d easily watch it again, which doesn’t happen often for me.\"\"\",\n",
    "    \n",
    "    \"\"\"This was honestly difficult to sit through. The dialogue felt forced from the start, and most of the performances came across as \n",
    "    wooden rather than convincing. The pacing dragged in the middle, making it feel much longer than it actually was, and the attempts at \n",
    "    humor often fell flat. The visuals didn’t help either — bland set design and choppy editing only highlighted how underwhelming the overall \n",
    "    production was. By the end, instead of feeling invested in the story, I was just relieved it was finally over.\"\"\",\n",
    "\n",
    "    \"\"\"\n",
    "    The acting and cinematography was excellent!\n",
    "    \"\"\"\n",
    "]\n",
    "\n",
    "# Convert to sequence\n",
    "new_seq = tokenizer_loaded.texts_to_sequences(new_reviews)\n",
    "\n",
    "from tensorflow.keras.preprocessing.sequence import pad_sequences\n",
    "new_pad = pad_sequences(new_seq, maxlen=maxlen, padding=\"post\", truncating=\"post\")\n",
    "\n",
    "# Pred\n",
    "y_pred_prob = model_loaded.predict(new_pad)\n",
    "for review, prob in zip(new_reviews, y_pred_prob.flatten()):\n",
    "    sentiment = \"positive\" if prob > 0.5 else \"negative\"\n",
    "    print(f\"\\nReview: {review}\")\n",
    "    print(f\"→ Probability Positive: {prob:.4f}, Probability Negative: {1-prob:.4f}\")\n",
    "    print(f\"→ Predicted Sentiment: {sentiment}\")"
   ]
  }
 ],
 "metadata": {
  "kernelspec": {
   "display_name": "Python 3 (ipykernel)",
   "language": "python",
   "name": "python3"
  },
  "language_info": {
   "codemirror_mode": {
    "name": "ipython",
    "version": 3
   },
   "file_extension": ".py",
   "mimetype": "text/x-python",
   "name": "python",
   "nbconvert_exporter": "python",
   "pygments_lexer": "ipython3",
   "version": "3.10.18"
  }
 },
 "nbformat": 4,
 "nbformat_minor": 5
}
